{
 "cells": [
  {
   "cell_type": "markdown",
   "metadata": {},
   "source": [
    "# My exercises on loading a dataset and doing some basic analysis"
   ]
  },
  {
   "cell_type": "code",
   "execution_count": null,
   "metadata": {},
   "outputs": [],
   "source": [
    "import pandas as pd\n",
    "import numpy as np\n",
    "import sklearn\n",
    "import datetime\n",
    "\n",
    "BIRMINGHAM_PARKING_DATASET_URL = 'https://raw.githubusercontent.com/reddyprasade/Machine-Learning-Problems-DataSets/master/Regression/Parking%20Birmingham.csv'\n",
    "\n",
    "bir_csv = np.genfromtxt(BIRMINGHAM_PARKING_DATASET_URL,delimiter=',', dtype=str)\n",
    "header, data = bir_csv[0,1:], bir_csv[1:,1:]\n",
    "\n",
    "bir_dataframe = pd.DataFrame(\n",
    "    data,\n",
    "    columns=header,\n",
    ").astype({\n",
    "    'SystemCodeNumber': str,\n",
    "    'Capacity': int,\n",
    "    'Occupancy': int,\n",
    "    'LastUpdated': 'datetime64[s]'\n",
    "})\n",
    "bir_dataframe.head()"
   ]
  },
  {
   "cell_type": "markdown",
   "metadata": {},
   "source": [
    "Grouping by the `SystemCodeNumber` to see how the occupancy rate varies by the parking lot."
   ]
  },
  {
   "cell_type": "code",
   "execution_count": null,
   "metadata": {},
   "outputs": [],
   "source": [
    "import matplotlib.pyplot as plt\n",
    "\n",
    "plt.figure(figsize=(20,5))\n",
    "plt.figure.dpi = 300\n",
    "\n",
    "grouped_by_lots = bir_dataframe.groupby('SystemCodeNumber')\n",
    "for group in grouped_by_lots.groups.keys():\n",
    "    current_group_timeseries = grouped_by_lots.get_group(group)\n",
    "    plt.plot(\n",
    "        current_group_timeseries['LastUpdated'],\n",
    "        (current_group_timeseries['Occupancy'] / current_group_timeseries['Capacity']) * 100,\n",
    "        label=current_group_timeseries['SystemCodeNumber'].values[0],\n",
    "    )\n",
    "plt.legend(\n",
    "    loc=3,\n",
    "    ncols=len(grouped_by_lots.groups.keys()) // 4,\n",
    "    bbox_to_anchor=(0.0, 1.0)\n",
    ")\n",
    "plt.show()"
   ]
  },
  {
   "cell_type": "markdown",
   "metadata": {},
   "source": [
    "It can be seen that there are gaps in the timeseries, where the occupancy drops significantly. This is likely due to the parking lot being closed at certain times or due to limited traffic in these areas. Next, average daily occupancies will be calculated to see if there are any patterns in the data."
   ]
  },
  {
   "cell_type": "code",
   "execution_count": null,
   "metadata": {},
   "outputs": [],
   "source": [
    "for group in grouped_by_lots.groups.keys():\n",
    "    current_group_timeseries = grouped_by_lots.get_group(group).copy()\n",
    "    current_group_timeseries['LastUpdatedDay'] = current_group_timeseries['LastUpdated'].dt.date\n",
    "    current_group_timeseries['LastUpdatedTime'] = current_group_timeseries['LastUpdated'].dt.time\n",
    "    current_group_timeseries.drop('LastUpdated', axis=1, inplace=True)\n",
    "    current_group_timeseries['OccupancyPercentage'] = (current_group_timeseries['Occupancy'] / current_group_timeseries['Capacity']) * 100\n",
    "    grouped_by_days = current_group_timeseries.groupby('LastUpdatedDay')\n",
    "    aggregated_values = []\n",
    "    for day in grouped_by_days.groups.keys():\n",
    "        current_group_timeseries_day = grouped_by_days.get_group(day)\n",
    "        aggregated_values.append(current_group_timeseries_day[\"OccupancyPercentage\"].values)\n",
    "    aggregated_df = pd.DataFrame(aggregated_values)"
   ]
  },
  {
   "cell_type": "code",
   "execution_count": null,
   "metadata": {},
   "outputs": [],
   "source": []
  }
 ],
 "metadata": {
  "kernelspec": {
   "display_name": "Python 3",
   "language": "python",
   "name": "python3"
  },
  "language_info": {
   "codemirror_mode": {
    "name": "ipython",
    "version": 3
   },
   "file_extension": ".py",
   "mimetype": "text/x-python",
   "name": "python",
   "nbconvert_exporter": "python",
   "pygments_lexer": "ipython3",
   "version": "3.11.4"
  }
 },
 "nbformat": 4,
 "nbformat_minor": 2
}
